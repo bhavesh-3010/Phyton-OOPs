{
  "nbformat": 4,
  "nbformat_minor": 0,
  "metadata": {
    "colab": {
      "provenance": []
    },
    "kernelspec": {
      "name": "python3",
      "display_name": "Python 3"
    },
    "language_info": {
      "name": "python"
    }
  },
  "cells": [
    {
      "cell_type": "markdown",
      "source": [
        "   # Phyton OOPs"
      ],
      "metadata": {
        "id": "mbceAHV8ejyS"
      }
    },
    {
      "cell_type": "markdown",
      "source": [
        "1. What is Object-Oriented Programming (OOP)?\n",
        "\n",
        "   - Object-Oriented Programming (OOP) is a programming paradigm based on the concept of \"objects,\" which encapsulate data and behavior within a single entity. It emphasizes principles like **encapsulation** (hiding internal details and exposing only necessary parts), **inheritance** (reusing and extending existing code), **polymorphism** (using a single interface for different data types), and **abstraction** (simplifying complex systems by modeling real-world entities). OOP promotes modularity, reusability, and scalability, making it ideal for building complex and maintainable software systems. Languages like Java, Python, C++, and C# are widely used for OOP."
      ],
      "metadata": {
        "id": "XF9YUTwpZQei"
      }
    },
    {
      "cell_type": "markdown",
      "source": [
        "2. What is a class in OOP?\n",
        "\n",
        "   - In Object-Oriented Programming (OOP), a **class** is a blueprint or template for creating objects. It defines the properties (**attributes**) and behaviors (**methods**) that the objects instantiated from it will have. A class acts as a structure that encapsulates data and functionality, promoting code reusability and organization. For example, in Python, a `Car` class might have attributes like `color` and `model` and methods like `drive()` and `brake()`, allowing multiple `Car` objects to be created with different attributes but the same behavior."
      ],
      "metadata": {
        "id": "smNWpv1-ZeIm"
      }
    },
    {
      "cell_type": "markdown",
      "source": [
        "3. What is an object in OOP?\n",
        "\n",
        "   - In Object-Oriented Programming (OOP), an **object** is an instance of a class that encapsulates both data (**attributes**) and behavior (**methods**). Objects are the building blocks of OOP, representing real-world entities with specific properties and actions. Each object has a unique identity but follows the structure defined by its class. For example, if `Car` is a class, then `myCar = Car(\"red\", \"Tesla\")` is an object with attributes like `\"red\"` for color and `\"Tesla\"` for the model. Objects allow modularity, reusability, and interaction between different parts of a program."
      ],
      "metadata": {
        "id": "wCRqKzlJZmjJ"
      }
    },
    {
      "cell_type": "markdown",
      "source": [
        "4. What is the difference between abstraction and encapsulation?\n",
        "\n",
        "  - **Abstraction** and **Encapsulation** are both fundamental OOP concepts but serve different purposes. **Abstraction** focuses on **hiding complex implementation details** and exposing only essential functionalities, making systems easier to use (e.g., a car’s accelerator hides the engine’s working). **Encapsulation** involves **bundling data and methods** within a class and restricting direct access to protect data integrity (e.g., a `BankAccount` class keeps the balance private and controls access through methods like `deposit()` and `withdraw()`). In short, abstraction defines **what** details to hide, while encapsulation controls **how** data is accessed and maintained."
      ],
      "metadata": {
        "id": "s67b6XO3ZtiU"
      }
    },
    {
      "cell_type": "markdown",
      "source": [
        "5. What are dunder methods in Python?\n",
        "\n",
        "   - **Dunder methods** (short for \"double underscore methods\"), also known as **magic methods** or **special methods**, are built-in methods in Python that start and end with **double underscores** (e.g., `__init__`, `__str__`, `__len__`). These methods allow objects to integrate with Python's built-in functions and behaviors. For example, `__init__` initializes an object, `__str__` defines how an object is represented as a string, and `__add__` allows custom behavior for the `+` operator. Dunder methods help in operator overloading and customizing class behavior, making objects more intuitive and Pythonic."
      ],
      "metadata": {
        "id": "Nrpyxa3BZ5qG"
      }
    },
    {
      "cell_type": "markdown",
      "source": [
        "6. Explain the concept of inheritance in OOPH\n",
        "\n",
        "    - **Inheritance** in Object-Oriented Programming (OOP) is a mechanism that allows a class (**child class**) to acquire the attributes and methods of another class (**parent class**), promoting **code reusability** and **hierarchical relationships**. The child class can inherit, override, or extend the functionality of the parent class, enabling efficient code management. For example, if `Animal` is a parent class with a `make_sound()` method, a `Dog` class can inherit from it and override `make_sound()` to return `\"Bark\"`. OOP supports various types of inheritance, such as **single, multiple, multilevel, hierarchical, and hybrid inheritance**, allowing flexible and structured code organization."
      ],
      "metadata": {
        "id": "5AqvvgDlaFgu"
      }
    },
    {
      "cell_type": "markdown",
      "source": [
        "7. What is polymorphism in OOP?\n",
        "   \n",
        "   - **Polymorphism** in Object-Oriented Programming (OOP) is the ability of a single interface to represent multiple forms. It allows different classes to define methods with the same name but different behaviors, enabling **code flexibility and reusability**. Polymorphism can be achieved through **method overriding** (where a child class redefines a parent class method) and **method overloading** (using the same method name with different parameters, though not natively supported in Python). It also includes **operator overloading**, where operators like `+` or `*` perform different actions based on the object type. For example, both a `Dog` and a `Cat` class can have a `speak()` method, but `Dog.speak()` returns `\"Bark\"` while `Cat.speak()` returns `\"Meow\"`, demonstrating polymorphism."
      ],
      "metadata": {
        "id": "eIOb8X3DaW72"
      }
    },
    {
      "cell_type": "markdown",
      "source": [
        "8.  How is encapsulation achieved in Python\n",
        "\n",
        "    - **Encapsulation** in Python is achieved by restricting direct access to an object's data using **access modifiers**—public (`name`), protected (`_name`), and private (`__name`). Private attributes, prefixed with double underscores, prevent direct modification and ensure data integrity. Encapsulation is implemented using **getter and setter methods** to control access and modification of private attributes. For example, in a `BankAccount` class, `__balance` is a private variable, and its access is controlled through methods like `get_balance()` and `deposit()`. This prevents unintended data modification while maintaining security and integrity in object-oriented programming."
      ],
      "metadata": {
        "id": "daWUiSSCawVy"
      }
    },
    {
      "cell_type": "markdown",
      "source": [
        "9. What is a constructor in Python\n",
        "\n",
        "   - A **constructor** in Python is a special method called `__init__()` that is automatically executed when an object of a class is created. It is used to initialize object attributes and set up necessary configurations. The constructor takes `self` as the first parameter, along with any additional arguments needed for initialization. For example, in a `Car` class, `__init__(self, color, model)` initializes each `Car` object with specific values for `color` and `model`. Constructors help in ensuring that objects are properly set up before they are used in a program."
      ],
      "metadata": {
        "id": "p4es9ZWma701"
      }
    },
    {
      "cell_type": "markdown",
      "source": [
        "10. What are class and static methods in Python?\n",
        "\n",
        "    - In Python, **class methods** and **static methods** are special methods that modify how functions interact with the class. A **class method** (defined using `@classmethod`) takes `cls` as its first parameter and operates on class-level attributes, allowing modifications that affect all instances. For example, `Car.set_wheels(6)` can change the `wheels` attribute for all `Car` objects. A **static method** (defined using `@staticmethod`) does not take `self` or `cls` and is used for utility functions that do not modify class or instance attributes, like a `MathUtils.add(x, y)` method for addition. Class methods work at the class level, while static methods are independent utility functions inside a class."
      ],
      "metadata": {
        "id": "vtfAxXyAbFya"
      }
    },
    {
      "cell_type": "markdown",
      "source": [
        "11. What is method overloading in Python\n",
        "\n",
        "     - **Method overloading** in Python refers to defining multiple methods with the same name but different numbers or types of parameters. However, Python **does not support true method overloading** like Java or C++, as only the latest method definition is retained. Instead, Python achieves overloading using **default arguments, `*args`, or `**kwargs`**, allowing a method to handle different numbers of parameters dynamically. For example, a method `add(self, a, b=0, c=0)` can return different results based on the number of arguments passed. This approach provides flexibility while maintaining Python’s dynamic nature."
      ],
      "metadata": {
        "id": "eaAYxdsgbTZc"
      }
    },
    {
      "cell_type": "markdown",
      "source": [
        "12.  What is method overriding in OOP\n",
        "\n",
        "      - **Method overriding** in Object-Oriented Programming (OOP) occurs when a **child class provides a specific implementation of a method already defined in its parent class**, allowing for customized behavior. The overridden method in the child class must have the **same name, parameters, and return type** as the method in the parent class. This enables **polymorphism**, where different classes can define the same method differently. For example, in a `Vehicle` class, a `move()` method may return `\"Moving\"`, but in a `Car` subclass, overriding `move()` can return `\"Car is driving\"`. Method overriding ensures flexibility and extensibility in OOP by allowing different objects to respond uniquely to the same method call."
      ],
      "metadata": {
        "id": "vI-T4kDEbf6Y"
      }
    },
    {
      "cell_type": "markdown",
      "source": [
        "13. What is a property decorator in Python\n",
        "\n",
        "     - A **property decorator** (`@property`) in Python is used to define **getter, setter, and deleter methods** in a class, allowing controlled access to private attributes while keeping the syntax clean and intuitive. It helps implement **encapsulation** by restricting direct modification of attributes and enabling validation or computed properties. Using `@property`, a method can be accessed like an attribute, improving code readability. The `@property` decorator defines a **getter**, while `@attribute.setter` and `@attribute.deleter` define the setter and deleter methods, respectively. This approach ensures better data integrity and controlled access to class attributes."
      ],
      "metadata": {
        "id": "RWaD6aOcb2k2"
      }
    },
    {
      "cell_type": "markdown",
      "source": [
        "14. Why is polymorphism important in OOP\n",
        "  \n",
        "     - **Polymorphism** is important in Object-Oriented Programming (OOP) because it enhances **flexibility, scalability, and code reusability** by allowing the same method or operator to behave differently across multiple classes. It enables **method overriding**, where a child class redefines a parent method for customized behavior, and **method overloading** (simulated in Python using default arguments or `*args`). Polymorphism simplifies code maintenance by allowing functions to operate on different object types uniformly. For example, a `draw()` method in a `Shape` class can be overridden in `Circle` and `Rectangle` subclasses to render different shapes, ensuring a consistent interface while allowing specific implementations."
      ],
      "metadata": {
        "id": "7BVcRPJfcDRG"
      }
    },
    {
      "cell_type": "markdown",
      "source": [
        "15. What is an abstract class in Python\n",
        "\n",
        "     - An **abstract class** in Python is a class that **cannot be instantiated** and serves as a blueprint for other classes. It is defined using the `ABC` (Abstract Base Class) module and contains at least one **abstract method**, which is declared but **must be implemented** by any subclass. Abstract classes enforce a common interface, ensuring that all subclasses provide specific functionalities. For example, a `Vehicle` abstract class may have an abstract method `move()`, which must be defined in child classes like `Car` and `Bike`. This promotes **code structure, consistency, and reusability** in Object-Oriented Programming (OOP)."
      ],
      "metadata": {
        "id": "Q169aH9zcQrV"
      }
    },
    {
      "cell_type": "markdown",
      "source": [
        "16.  What are the advantages of OOP?\n",
        "\n",
        "      - **Object-Oriented Programming (OOP)** offers several advantages, including **code reusability, modularity, scalability, and maintainability**. Through **encapsulation**, OOP protects data by restricting direct access and ensuring controlled modifications. **Inheritance** allows new classes to reuse and extend existing code, reducing redundancy. **Polymorphism** enables a single interface to handle different data types, making code more flexible and adaptable. **Abstraction** simplifies complex systems by hiding unnecessary details and exposing only essential functionalities. These features together improve **code organization, readability, and efficiency**, making OOP ideal for building large, scalable applications."
      ],
      "metadata": {
        "id": "FzdV6epzcbL9"
      }
    },
    {
      "cell_type": "markdown",
      "source": [
        "17. What is the difference between a class variable and an instance variable\n",
        "\n",
        "    - A **class variable** is shared among all instances of a class, while an **instance variable** is specific to each object. **Class variables** are defined inside the class but outside any method and are accessed using the class name or an instance. Changing a class variable affects all instances. In contrast, **instance variables** are defined inside the `__init__` method using `self` and are unique to each object. For example, in a `Car` class, `wheels = 4` (class variable) is shared across all cars, but `self.color = \"red\"` (instance variable) is specific to each car object, ensuring individuality."
      ],
      "metadata": {
        "id": "XTeXHDAccpMx"
      }
    },
    {
      "cell_type": "markdown",
      "source": [
        "18. What is multiple inheritance in Python\n",
        "\n",
        "  - **Multiple inheritance** in Python is a feature where a class can inherit attributes and methods from **more than one parent class**, allowing it to combine functionalities from multiple sources. This enhances **code reusability and flexibility** but may lead to complexity, especially with the **diamond problem**, which Python resolves using the **Method Resolution Order (MRO)**. For example, a `HybridCar` class can inherit from both `ElectricCar` and `GasCar`, gaining characteristics of both. Multiple inheritance is powerful but should be used carefully to maintain clarity and avoid conflicts in method resolution."
      ],
      "metadata": {
        "id": "eJy0fP39c505"
      }
    },
    {
      "cell_type": "markdown",
      "source": [
        "19. Explain the purpose of ‘’__str__’ and ‘__repr__’ ‘ methods in Python\n",
        "\n",
        "    - The `__str__` and `__repr__` methods in Python are **special (dunder) methods** used to define how objects are represented as strings. The `__str__` method is called by `str()` and `print()`, providing a **human-readable** and user-friendly string representation of an object. In contrast, `__repr__` is called by `repr()` and is meant to return a **developer-friendly**, unambiguous string that can ideally recreate the object when passed to `eval()`. If `__str__` is not defined, `__repr__` is used as a fallback. For example, in a `Person` class, `__str__` might return `\"John Doe\"`, while `__repr__` could return `\"Person(name='John', age=30)\"`.  "
      ],
      "metadata": {
        "id": "fiIvpRKfdJH0"
      }
    },
    {
      "cell_type": "markdown",
      "source": [
        "20. What is the significance of the ‘super()’ function in Python\n",
        "\n",
        "    - The `super()` function in Python is used to call a **method from the parent class** within a child class, allowing access to inherited methods without explicitly referring to the parent class name. It is commonly used in **method overriding** to extend or modify the behavior of a parent method while still using its functionality. This is especially useful in **multiple inheritance**, where `super()` follows the **Method Resolution Order (MRO)** to determine the correct method to call. For example, in a subclass `Car`, calling `super().__init__()` inside its constructor ensures that the parent `Vehicle` class’s constructor runs first, properly initializing inherited attributes."
      ],
      "metadata": {
        "id": "pzqg3hQldWOw"
      }
    },
    {
      "cell_type": "markdown",
      "source": [
        "21. What is the significance of the __del__ method in Python\n",
        "\n",
        "    - The `__del__` method in Python is a **destructor method** that is automatically called when an object is about to be destroyed, helping in **resource cleanup** such as closing files, releasing memory, or disconnecting from a database. It is executed when an object's reference count reaches zero, meaning no part of the program is using it. However, since Python has **automatic garbage collection**, `__del__` is rarely needed and should be used cautiously to avoid unexpected behavior. For example, defining `def __del__(self): print(\"Object deleted\")` in a class will print a message when an object is deleted."
      ],
      "metadata": {
        "id": "WrINCtYKdi_Q"
      }
    },
    {
      "cell_type": "markdown",
      "source": [
        "22. What is the difference between @staticmethod and @classmethod in Python\n",
        "\n",
        "    - The difference between `@staticmethod` and `@classmethod` in Python lies in how they interact with the class. A **static method** (`@staticmethod`) does not take `self` or `cls` as a parameter and functions like a regular function inside a class, typically used for utility tasks that do not depend on the instance or class. A **class method** (`@classmethod`), on the other hand, takes `cls` as its first parameter and operates on the class level, allowing modification of class attributes. For example, `@staticmethod` is used for simple calculations, while `@classmethod` is used to modify shared class variables."
      ],
      "metadata": {
        "id": "r3jAjMGIdttY"
      }
    },
    {
      "cell_type": "markdown",
      "source": [
        "23. How does polymorphism work in Python with inheritance\n",
        "\n",
        "     - In Python, **polymorphism with inheritance** allows child classes to provide different implementations of methods inherited from a parent class, enabling flexibility and code reuse. This is achieved through **method overriding**, where a subclass redefines a method from the parent class while keeping the same name and parameters. When calling the method on an instance of the subclass, Python dynamically determines which version to execute based on the object's type. For example, if a `Shape` class has a `draw()` method, subclasses like `Circle` and `Rectangle` can override it to provide their own implementations, ensuring that `shape.draw()` behaves differently based on the specific object."
      ],
      "metadata": {
        "id": "gz7P-o6kd7A1"
      }
    },
    {
      "cell_type": "markdown",
      "source": [
        "24. What is method chaining in Python OOP\n",
        "\n",
        "    - **Method chaining** in Python OOP is a technique where multiple methods are called on the same object in a **single statement**, improving code readability and conciseness. This is achieved by having each method return `self`, allowing the next method to be called directly on the returned object. It is commonly used in **fluent interfaces** for configuring objects. For example, in a `Car` class, `car.start().accelerate().brake()` executes multiple actions sequentially on the same `car` object. Method chaining enhances **code elegance and efficiency** but requires methods to return `self` instead of `None`."
      ],
      "metadata": {
        "id": "OOudWa9QeLnI"
      }
    },
    {
      "cell_type": "markdown",
      "source": [
        "25. What is the purpose of the __call__ method in Python\n",
        "\n",
        "    - The `__call__` method in Python allows an instance of a class to be **called like a function**, enabling objects to behave like callable functions. This is useful for implementing **custom behavior**, such as function wrappers, decorators, or dynamic computations. When an instance with `__call__` is invoked using `object()`, Python executes the `__call__` method. For example, in a `Multiplier` class, defining `__call__(self, x)` allows `multiplier(5)` to return a computed result. This feature enhances **flexibility** and is commonly used in **function-like objects (functors)**."
      ],
      "metadata": {
        "id": "Krtxgvl3eXNU"
      }
    },
    {
      "cell_type": "markdown",
      "source": [
        "# Practical Questions"
      ],
      "metadata": {
        "id": "GavbF17merBv"
      }
    },
    {
      "cell_type": "code",
      "source": [
        " #1. Create a parent class Animal with a method speak() that prints a generic message. Create a child class Dog that overrides the speak() method to print \"Bark!\"\n",
        "\n",
        " class Animal:\n",
        "    def speak(self):\n",
        "        print(\"This animal makes a sound.\")\n",
        "\n",
        "class Dog(Animal):\n",
        "    def speak(self):\n",
        "        print(\"Bark!\")\n",
        "\n",
        "# Example usage\n",
        "animal = Animal()\n",
        "animal.speak()  # Output: This animal makes a sound.\n",
        "\n",
        "dog = Dog()\n",
        "dog.speak()  # Output: Bark!\n"
      ],
      "metadata": {
        "colab": {
          "base_uri": "https://localhost:8080/"
        },
        "id": "Ax9UcP9Ae4o1",
        "outputId": "bf4bc160-fdb9-489a-f6e6-49a221559d57"
      },
      "execution_count": 1,
      "outputs": [
        {
          "output_type": "stream",
          "name": "stdout",
          "text": [
            "This animal makes a sound.\n",
            "Bark!\n"
          ]
        }
      ]
    },
    {
      "cell_type": "code",
      "source": [
        "#2.  Write a program to create an abstract class Shape with a method area(). Derive classes Circle and Rectangle from it and implement the area() method in both\n",
        "\n",
        "from abc import ABC, abstractmethod\n",
        "import math\n",
        "\n",
        "# Abstract class\n",
        "class Shape(ABC):\n",
        "    @abstractmethod\n",
        "    def area(self):\n",
        "        pass  # Abstract method, must be implemented by subclasses\n",
        "\n",
        "# Circle subclass\n",
        "class Circle(Shape):\n",
        "    def __init__(self, radius):\n",
        "        self.radius = radius\n",
        "\n",
        "    def area(self):\n",
        "        return math.pi * self.radius ** 2  # Area of a circle: πr²\n",
        "\n",
        "# Rectangle subclass\n",
        "class Rectangle(Shape):\n",
        "    def __init__(self, length, width):\n",
        "        self.length = length\n",
        "        self.width = width\n",
        "\n",
        "    def area(self):\n",
        "        return self.length * self.width  # Area of a rectangle: length × width\n",
        "\n",
        "# Example usage\n",
        "circle = Circle(5)\n",
        "print(\"Circle Area:\", circle.area())  # Output: 78.54\n",
        "\n",
        "rectangle = Rectangle(4, 6)\n",
        "print(\"Rectangle Area:\", rectangle.area())  # Output: 24\n"
      ],
      "metadata": {
        "colab": {
          "base_uri": "https://localhost:8080/"
        },
        "id": "cgenGMuzfD_r",
        "outputId": "9cddf243-df99-4489-e6dd-12789630e6be"
      },
      "execution_count": 3,
      "outputs": [
        {
          "output_type": "stream",
          "name": "stdout",
          "text": [
            "Circle Area: 78.53981633974483\n",
            "Rectangle Area: 24\n"
          ]
        }
      ]
    },
    {
      "cell_type": "code",
      "source": [
        "#3.  Implement a multi-level inheritance scenario where a class Vehicle has an attribute type. Derive a class Car and further derive a class ElectricCar that adds a battery attribute\n",
        "\n",
        "# Base class\n",
        "class Vehicle:\n",
        "    def __init__(self, type):\n",
        "        self.type = type\n",
        "\n",
        "    def show_type(self):\n",
        "        print(f\"Vehicle type: {self.type}\")\n",
        "\n",
        "# Intermediate class inheriting from Vehicle\n",
        "class Car(Vehicle):\n",
        "    def __init__(self, type, brand):\n",
        "        super().__init__(type)  # Call parent constructor\n",
        "        self.brand = brand\n",
        "\n",
        "    def show_brand(self):\n",
        "        print(f\"Car brand: {self.brand}\")\n",
        "\n",
        "# Derived class inheriting from Car\n",
        "class ElectricCar(Car):\n",
        "    def __init__(self, type, brand, battery_capacity):\n",
        "        super().__init__(type, brand)  # Call Car constructor\n",
        "        self.battery_capacity = battery_capacity\n",
        "\n",
        "    def show_battery(self):\n",
        "        print(f\"Battery capacity: {self.battery_capacity} kWh\")\n",
        "\n",
        "# Example usage\n",
        "tesla = ElectricCar(\"Sedan\", \"Tesla\", 75)\n",
        "tesla.show_type()       # Output: Vehicle type: Sedan\n",
        "tesla.show_brand()      # Output: Car brand: Tesla\n",
        "tesla.show_battery()    # Output: Battery capacity: 75 kWh\n"
      ],
      "metadata": {
        "colab": {
          "base_uri": "https://localhost:8080/"
        },
        "id": "zYOc9eknfdG0",
        "outputId": "47299f46-c86d-43bf-f597-5f781c312e4c"
      },
      "execution_count": 4,
      "outputs": [
        {
          "output_type": "stream",
          "name": "stdout",
          "text": [
            "Vehicle type: Sedan\n",
            "Car brand: Tesla\n",
            "Battery capacity: 75 kWh\n"
          ]
        }
      ]
    },
    {
      "cell_type": "code",
      "source": [
        "#4. Demonstrate polymorphism by creating a base class Bird with a method fly(). Create two derived classes Sparrow and Penguin that override the fly() method\n",
        "\n",
        "# Base class\n",
        "class Bird:\n",
        "    def fly(self):\n",
        "        print(\"Some birds can fly.\")\n",
        "\n",
        "# Derived class Sparrow (can fly)\n",
        "class Sparrow(Bird):\n",
        "    def fly(self):\n",
        "        print(\"Sparrow flies high in the sky!\")\n",
        "\n",
        "# Derived class Penguin (cannot fly)\n",
        "class Penguin(Bird):\n",
        "    def fly(self):\n",
        "        print(\"Penguins cannot fly, but they swim!\")\n",
        "\n",
        "# Function demonstrating polymorphism\n",
        "def bird_flight(bird):\n",
        "    bird.fly()  # Calls the overridden method based on the object type\n",
        "\n",
        "# Example usage\n",
        "sparrow = Sparrow()\n",
        "penguin = Penguin()\n",
        "\n",
        "bird_flight(sparrow)  # Output: Sparrow flies high in the sky!\n",
        "bird_flight(penguin)  # Output: Penguins cannot fly, but they swim!\n"
      ],
      "metadata": {
        "colab": {
          "base_uri": "https://localhost:8080/"
        },
        "id": "MS39ySsPfqGa",
        "outputId": "27c6d6e7-39f1-47cd-a581-b5c2d4e03c12"
      },
      "execution_count": 5,
      "outputs": [
        {
          "output_type": "stream",
          "name": "stdout",
          "text": [
            "Sparrow flies high in the sky!\n",
            "Penguins cannot fly, but they swim!\n"
          ]
        }
      ]
    },
    {
      "cell_type": "code",
      "source": [
        "#5.  Write a program to demonstrate encapsulation by creating a class BankAccount with private attributes balance and methods to deposit, withdraw, and check balance\n",
        "\n",
        "class BankAccount:\n",
        "    def __init__(self, initial_balance):\n",
        "        self.__balance = initial_balance  # Private attribute\n",
        "\n",
        "    def deposit(self, amount):\n",
        "        if amount > 0:\n",
        "            self.__balance += amount\n",
        "            print(f\"Deposited: ${amount}\")\n",
        "        else:\n",
        "            print(\"Deposit amount must be positive.\")\n",
        "\n",
        "    def withdraw(self, amount):\n",
        "        if 0 < amount <= self.__balance:\n",
        "            self.__balance -= amount\n",
        "            print(f\"Withdrew: ${amount}\")\n",
        "        else:\n",
        "            print(\"Insufficient balance or invalid amount.\")\n",
        "\n",
        "    def check_balance(self):\n",
        "        print(f\"Current Balance: ${self.__balance}\")\n",
        "\n",
        "# Example usage\n",
        "account = BankAccount(1000)\n",
        "account.deposit(500)     # Deposited: $500\n",
        "account.withdraw(300)    # Withdrew: $300\n",
        "account.check_balance()  # Current Balance: $1200\n",
        "\n",
        "# Attempt to access private attribute (will fail)\n",
        "# print(account.__balance)  # AttributeError\n"
      ],
      "metadata": {
        "colab": {
          "base_uri": "https://localhost:8080/"
        },
        "id": "kEPIOX8Df7aO",
        "outputId": "91893b3d-b68c-4545-e25b-41a97c438147"
      },
      "execution_count": 6,
      "outputs": [
        {
          "output_type": "stream",
          "name": "stdout",
          "text": [
            "Deposited: $500\n",
            "Withdrew: $300\n",
            "Current Balance: $1200\n"
          ]
        }
      ]
    },
    {
      "cell_type": "code",
      "source": [
        "#6. Demonstrate runtime polymorphism using a method play() in a base class Instrument. Derive classes Guitar and Piano that implement their own version of play()\n",
        "\n",
        "# Base class\n",
        "class Instrument:\n",
        "    def play(self):\n",
        "        print(\"Playing an instrument.\")\n",
        "\n",
        "# Derived class Guitar\n",
        "class Guitar(Instrument):\n",
        "    def play(self):\n",
        "        print(\"Strumming the guitar!\")\n",
        "\n",
        "# Derived class Piano\n",
        "class Piano(Instrument):\n",
        "    def play(self):\n",
        "        print(\"Playing the piano keys!\")\n",
        "\n",
        "# Function demonstrating runtime polymorphism\n",
        "def perform(instrument):\n",
        "    instrument.play()  # Calls the overridden method based on the object type\n",
        "\n",
        "# Example usage\n",
        "guitar = Guitar()\n",
        "piano = Piano()\n",
        "\n",
        "perform(guitar)  # Output: Strumming the guitar!\n",
        "perform(piano)   # Output: Playing the piano keys!\n"
      ],
      "metadata": {
        "colab": {
          "base_uri": "https://localhost:8080/"
        },
        "id": "m6j1YZ03gQr3",
        "outputId": "be44e6ca-88bf-4229-eb8a-69222989c171"
      },
      "execution_count": 7,
      "outputs": [
        {
          "output_type": "stream",
          "name": "stdout",
          "text": [
            "Strumming the guitar!\n",
            "Playing the piano keys!\n"
          ]
        }
      ]
    },
    {
      "cell_type": "code",
      "source": [
        "#7.  Create a class MathOperations with a class method add_numbers() to add two numbers and a static method subtract_numbers() to subtract two numbers\n",
        "\n",
        "class MathOperations:\n",
        "    @classmethod\n",
        "    def add_numbers(cls, a, b):\n",
        "        return a + b  # Class method: Adds two numbers\n",
        "\n",
        "    @staticmethod\n",
        "    def subtract_numbers(a, b):\n",
        "        return a - b  # Static method: Subtracts two numbers\n",
        "\n",
        "# Example usage\n",
        "sum_result = MathOperations.add_numbers(10, 5)\n",
        "print(\"Sum:\", sum_result)  # Output: Sum: 15\n",
        "\n",
        "difference_result = MathOperations.subtract_numbers(10, 5)\n",
        "print(\"Difference:\", difference_result)  # Output: Difference: 5\n"
      ],
      "metadata": {
        "colab": {
          "base_uri": "https://localhost:8080/"
        },
        "id": "rrGlQY2vgfTt",
        "outputId": "a0bcef5e-60fa-432f-d969-06b5ae0ff848"
      },
      "execution_count": 8,
      "outputs": [
        {
          "output_type": "stream",
          "name": "stdout",
          "text": [
            "Sum: 15\n",
            "Difference: 5\n"
          ]
        }
      ]
    },
    {
      "cell_type": "code",
      "source": [
        "#8.  Implement a class Person with a class method to count the total number of persons created.\n",
        "\n",
        "class Person:\n",
        "    count = 0  # Class variable to track the number of persons\n",
        "\n",
        "    def __init__(self, name):\n",
        "        self.name = name\n",
        "        Person.count += 1  # Increment count when a new person is created\n",
        "\n",
        "    @classmethod\n",
        "    def total_persons(cls):\n",
        "        return cls.count  # Returns the total count of persons\n",
        "\n",
        "# Example usage\n",
        "p1 = Person(\"Alice\")\n",
        "p2 = Person(\"Bob\")\n",
        "p3 = Person(\"Charlie\")\n",
        "\n",
        "print(\"Total persons created:\", Person.total_persons())\n",
        "# Output: Total persons created: 3\n"
      ],
      "metadata": {
        "colab": {
          "base_uri": "https://localhost:8080/"
        },
        "id": "akGqYgCRgqFh",
        "outputId": "c0810431-5401-4fe0-b903-fe0557f5f882"
      },
      "execution_count": 9,
      "outputs": [
        {
          "output_type": "stream",
          "name": "stdout",
          "text": [
            "Total persons created: 3\n"
          ]
        }
      ]
    },
    {
      "cell_type": "code",
      "source": [
        "#9.  Write a class Fraction with attributes numerator and denominator. Override the str method to display the fraction as \"numerator/denominator\n",
        "\n",
        "class Fraction:\n",
        "    def __init__(self, numerator, denominator):\n",
        "        if denominator == 0:\n",
        "            raise ValueError(\"Denominator cannot be zero\")\n",
        "        self.numerator = numerator\n",
        "        self.denominator = denominator\n",
        "\n",
        "    def __str__(self):\n",
        "        return f\"{self.numerator}/{self.denominator}\"  # Custom string representation\n",
        "\n",
        "# Example usage\n",
        "f1 = Fraction(3, 4)\n",
        "print(f1)  # Output: 3/4\n",
        "\n",
        "f2 = Fraction(5, 8)\n",
        "print(f2)  # Output: 5/8\n"
      ],
      "metadata": {
        "colab": {
          "base_uri": "https://localhost:8080/"
        },
        "id": "_U_ShEwyg1zZ",
        "outputId": "6336b8f1-0c50-4f3a-acf1-f60e1629ee2a"
      },
      "execution_count": 10,
      "outputs": [
        {
          "output_type": "stream",
          "name": "stdout",
          "text": [
            "3/4\n",
            "5/8\n"
          ]
        }
      ]
    },
    {
      "cell_type": "code",
      "source": [
        "10.  #Demonstrate operator overloading by creating a class Vector and overriding the add method to add two vectors\n",
        "\n",
        "\n",
        "class Vector:\n",
        "    def __init__(self, x, y):\n",
        "        self.x = x\n",
        "        self.y = y\n",
        "\n",
        "    def __add__(self, other):\n",
        "        if not isinstance(other, Vector):\n",
        "            return NotImplemented\n",
        "        return Vector(self.x + other.x, self.y + other.y)  # Add corresponding components\n",
        "\n",
        "    def __str__(self):\n",
        "        return f\"({self.x}, {self.y})\"  # Custom string representation\n",
        "\n",
        "# Example usage\n",
        "v1 = Vector(2, 3)\n",
        "v2 = Vector(4, 5)\n",
        "\n",
        "v3 = v1 + v2  # Uses the overloaded + operator (__add__)\n",
        "print(\"Resultant Vector:\", v3)  # Output: Resultant Vector: (6, 8)\n"
      ],
      "metadata": {
        "colab": {
          "base_uri": "https://localhost:8080/"
        },
        "id": "QUNg_YKlhDUg",
        "outputId": "40c7bf2d-ad66-47d3-d241-0166fdc12389"
      },
      "execution_count": 11,
      "outputs": [
        {
          "output_type": "stream",
          "name": "stdout",
          "text": [
            "Resultant Vector: (6, 8)\n"
          ]
        }
      ]
    },
    {
      "cell_type": "code",
      "source": [
        "#11.  Create a class Person with attributes name and age. Add a method greet() that prints \"Hello, my name is {name} and I am {age} years old\n",
        "\n",
        "class Person:\n",
        "    def __init__(self, name, age):\n",
        "        self.name = name\n",
        "        self.age = age\n",
        "\n",
        "    def greet(self):\n",
        "        print(f\"Hello, my name is {self.name} and I am {self.age} years old.\")\n",
        "\n",
        "# Example usage\n",
        "p1 = Person(\"Bhavesh\", 21)\n",
        "p1.greet()  # Output: Hello, my name is Alice and I am 25 years old.\n",
        "\n",
        "p2 = Person(\"Riya\", 24)\n",
        "p2.greet()  # Output: Hello, my name is Bob and I am 30 years old.\n"
      ],
      "metadata": {
        "colab": {
          "base_uri": "https://localhost:8080/"
        },
        "id": "SsCYoE5Yha7V",
        "outputId": "e1563fff-187a-40d5-82dd-9ebe3001836d"
      },
      "execution_count": 13,
      "outputs": [
        {
          "output_type": "stream",
          "name": "stdout",
          "text": [
            "Hello, my name is Bhavesh and I am 21 years old.\n",
            "Hello, my name is Riya and I am 24 years old.\n"
          ]
        }
      ]
    },
    {
      "cell_type": "code",
      "source": [
        "#12. Implement a class Student with attributes name and grades. Create a method average_grade() to compute the average of the grades\n",
        "\n",
        "\n",
        "class Student:\n",
        "    def __init__(self, name, grades):\n",
        "        self.name = name\n",
        "        self.grades = grades  # List of grades\n",
        "\n",
        "    def average_grade(self):\n",
        "        if not self.grades:\n",
        "            return 0  # Return 0 if no grades are available to avoid division by zero\n",
        "        return sum(self.grades) / len(self.grades)  # Calculate average\n",
        "\n",
        "# Example usage\n",
        "s1 = Student(\"Bhavesh\", [85, 90, 78, 92])\n",
        "print(f\"{s1.name}'s average grade:\", s1.average_grade())\n",
        "# Output: Alice's average grade: 86.25\n",
        "\n",
        "s2 = Student(\"Riya\", [88, 76, 95, 89, 84])\n",
        "print(f\"{s2.name}'s average grade:\", s2.average_grade())\n",
        "# Output: Bob's average grade: 86.4\n"
      ],
      "metadata": {
        "colab": {
          "base_uri": "https://localhost:8080/"
        },
        "id": "BhprJghdh1e6",
        "outputId": "9e082b88-42d3-4ba2-e55a-f6f778c75b0c"
      },
      "execution_count": 15,
      "outputs": [
        {
          "output_type": "stream",
          "name": "stdout",
          "text": [
            "Bhavesh's average grade: 86.25\n",
            "Riya's average grade: 86.4\n"
          ]
        }
      ]
    },
    {
      "cell_type": "code",
      "source": [
        "#13. Create a class Rectangle with methods set_dimensions() to set the dimensions and area() to calculate the area\n",
        "\n",
        "\n",
        "class Rectangle:\n",
        "    def __init__(self, length=0, width=0):\n",
        "        self.length = length\n",
        "        self.width = width\n",
        "\n",
        "    def set_dimensions(self, length, width):\n",
        "        self.length = length\n",
        "        self.width = width\n",
        "\n",
        "    def area(self):\n",
        "        return self.length * self.width  # Calculate area\n",
        "\n",
        "# Example usage\n",
        "rect = Rectangle()\n",
        "rect.set_dimensions(5, 10)  # Setting dimensions\n",
        "print(\"Rectangle Area:\", rect.area())  # Output: Rectangle Area: 50\n"
      ],
      "metadata": {
        "colab": {
          "base_uri": "https://localhost:8080/"
        },
        "id": "awruHG1aiGU_",
        "outputId": "dff5a83f-0d0c-427e-8976-aa0883691eb7"
      },
      "execution_count": 16,
      "outputs": [
        {
          "output_type": "stream",
          "name": "stdout",
          "text": [
            "Rectangle Area: 50\n"
          ]
        }
      ]
    },
    {
      "cell_type": "code",
      "source": [
        "#14.  Create a class Employee with a method calculate_salary() that computes the salary based on hours worked and hourly rate. Create a derived class Manager that adds a bonus to the salary\n",
        "\n",
        "\n",
        "class Employee:\n",
        "    def __init__(self, name, hours_worked, hourly_rate):\n",
        "        self.name = name\n",
        "        self.hours_worked = hours_worked\n",
        "        self.hourly_rate = hourly_rate\n",
        "\n",
        "    def calculate_salary(self):\n",
        "        return self.hours_worked * self.hourly_rate  # Basic salary calculation\n",
        "\n",
        "class Manager(Employee):\n",
        "    def __init__(self, name, hours_worked, hourly_rate, bonus):\n",
        "        super().__init__(name, hours_worked, hourly_rate)\n",
        "        self.bonus = bonus\n",
        "\n",
        "    def calculate_salary(self):\n",
        "        return super().calculate_salary() + self.bonus  # Adding bonus to salary\n",
        "\n",
        "# Example usage\n",
        "emp = Employee(\"Bhavesh\", 40, 20)\n",
        "print(f\"{emp.name}'s Salary:\", emp.calculate_salary())\n",
        "# Output: Alice's Salary: 800\n",
        "\n",
        "mgr = Manager(\"Riya\", 40, 30, 500)\n",
        "print(f\"{mgr.name}'s Salary:\", mgr.calculate_salary())\n",
        "# Output: Bob's Salary: 1700\n"
      ],
      "metadata": {
        "colab": {
          "base_uri": "https://localhost:8080/"
        },
        "id": "e0gKET86iR_X",
        "outputId": "8aa8c127-2dcc-44cd-b448-ed59a8e46a26"
      },
      "execution_count": 18,
      "outputs": [
        {
          "output_type": "stream",
          "name": "stdout",
          "text": [
            "Bhavesh's Salary: 800\n",
            "Riya's Salary: 1700\n"
          ]
        }
      ]
    },
    {
      "cell_type": "code",
      "source": [
        "#15. Create a class Product with attributes name, price, and quantity. Implement a method total_price() that calculates the total price of the product\n",
        "\n",
        "\n",
        "class Product:\n",
        "    def __init__(self, name, price, quantity):\n",
        "        self.name = name\n",
        "        self.price = price\n",
        "        self.quantity = quantity\n",
        "\n",
        "    def total_price(self):\n",
        "        return self.price * self.quantity  # Calculate total price\n",
        "\n",
        "# Example usage\n",
        "p1 = Product(\"Laptop\", 800, 2)\n",
        "print(f\"Total price for {p1.quantity} {p1.name}(s): ${p1.total_price()}\")\n",
        "# Output: Total price for 2 Laptop(s): $1600\n",
        "\n",
        "p2 = Product(\"Phone\", 500, 3)\n",
        "print(f\"Total price for {p2.quantity} {p2.name}(s): ${p2.total_price()}\")\n",
        "# Output: Total price for 3 Phone(s): $1500\n"
      ],
      "metadata": {
        "colab": {
          "base_uri": "https://localhost:8080/"
        },
        "id": "ywSniijjiklT",
        "outputId": "95632e9c-cdad-489c-ff06-9f0c902aa1b3"
      },
      "execution_count": 19,
      "outputs": [
        {
          "output_type": "stream",
          "name": "stdout",
          "text": [
            "Total price for 2 Laptop(s): $1600\n",
            "Total price for 3 Phone(s): $1500\n"
          ]
        }
      ]
    },
    {
      "cell_type": "code",
      "source": [
        "#16.  Create a class Animal with an abstract method sound(). Create two derived classes Cow and Sheep that implement the sound() method\n",
        "\n",
        "\n",
        "from abc import ABC, abstractmethod\n",
        "\n",
        "class Animal(ABC):  # Abstract base class\n",
        "    @abstractmethod\n",
        "    def sound(self):\n",
        "        pass  # Abstract method to be implemented by subclasses\n",
        "\n",
        "class Cow(Animal):\n",
        "    def sound(self):\n",
        "        return \"Moo\"\n",
        "\n",
        "class Sheep(Animal):\n",
        "    def sound(self):\n",
        "        return \"Baa\"\n",
        "\n",
        "# Example usage\n",
        "cow = Cow()\n",
        "sheep = Sheep()\n",
        "\n",
        "print(\"Cow Sound:\", cow.sound())  # Output: Cow Sound: Moo\n",
        "print(\"Sheep Sound:\", sheep.sound())  # Output: Sheep Sound: Baa\n"
      ],
      "metadata": {
        "colab": {
          "base_uri": "https://localhost:8080/"
        },
        "id": "1iGOESINivyv",
        "outputId": "f5dac104-3a45-4c47-ab1c-842efe286473"
      },
      "execution_count": 20,
      "outputs": [
        {
          "output_type": "stream",
          "name": "stdout",
          "text": [
            "Cow Sound: Moo\n",
            "Sheep Sound: Baa\n"
          ]
        }
      ]
    },
    {
      "cell_type": "code",
      "source": [
        "#17.  Create a class Book with attributes title, author, and year_published. Add a method get_book_info() that returns a formatted string with the book's details\n",
        "\n",
        "class Book:\n",
        "    def __init__(self, title, author, year_published):\n",
        "        self.title = title\n",
        "        self.author = author\n",
        "        self.year_published = year_published\n",
        "\n",
        "    def get_book_info(self):\n",
        "        return f\"'{self.title}' by {self.author}, published in {self.year_published}\"\n",
        "\n",
        "# Example usage\n",
        "book1 = Book(\"1984\", \"George Orwell\", 1949)\n",
        "print(book1.get_book_info())\n",
        "# Output: '1984' by George Orwell, published in 1949\n",
        "\n",
        "book2 = Book(\"To Kill a Mockingbird\", \"Harper Lee\", 1960)\n",
        "print(book2.get_book_info())\n",
        "# Output: 'To Kill a Mockingbird' by Harper Lee, published in 1960\n"
      ],
      "metadata": {
        "colab": {
          "base_uri": "https://localhost:8080/"
        },
        "id": "k3J4Q1Bii7L0",
        "outputId": "4386fdd0-3d68-48cf-d46a-5048b93ede96"
      },
      "execution_count": 21,
      "outputs": [
        {
          "output_type": "stream",
          "name": "stdout",
          "text": [
            "'1984' by George Orwell, published in 1949\n",
            "'To Kill a Mockingbird' by Harper Lee, published in 1960\n"
          ]
        }
      ]
    },
    {
      "cell_type": "code",
      "source": [
        "#18. Create a class House with attributes address and price. Create a derived class Mansion that adds an attribute number_of_rooms\n",
        "\n",
        "class House:\n",
        "    def __init__(self, address, price):\n",
        "        self.address = address\n",
        "        self.price = price\n",
        "\n",
        "    def get_details(self):\n",
        "        return f\"Address: {self.address}, Price: ${self.price}\"\n",
        "\n",
        "class Mansion(House):\n",
        "    def __init__(self, address, price, number_of_rooms):\n",
        "        super().__init__(address, price)\n",
        "        self.number_of_rooms = number_of_rooms\n",
        "\n",
        "    def get_details(self):\n",
        "        return f\"Address: {self.address}, Price: ${self.price}, Rooms: {self.number_of_rooms}\"\n",
        "\n",
        "# Example usage\n",
        "house = House(\"123 Main St\", 250000)\n",
        "print(house.get_details())\n",
        "# Output: Address: 123 Main St, Price: $250000\n",
        "\n",
        "mansion = Mansion(\"456 Luxury Ave\", 2000000, 10)\n",
        "print(mansion.get_details())\n",
        "# Output: Address: 456 Luxury Ave, Price: $2000000, Rooms: 10\n"
      ],
      "metadata": {
        "colab": {
          "base_uri": "https://localhost:8080/"
        },
        "id": "p-t8bg0VjKDN",
        "outputId": "f9915e99-eef9-4819-9113-0b320dad9459"
      },
      "execution_count": 22,
      "outputs": [
        {
          "output_type": "stream",
          "name": "stdout",
          "text": [
            "Address: 123 Main St, Price: $250000\n",
            "Address: 456 Luxury Ave, Price: $2000000, Rooms: 10\n"
          ]
        }
      ]
    }
  ]
}